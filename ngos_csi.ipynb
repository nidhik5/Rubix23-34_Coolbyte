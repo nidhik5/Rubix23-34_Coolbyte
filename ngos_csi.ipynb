{
 "cells": [
  {
   "cell_type": "code",
   "execution_count": 73,
   "id": "90c589a1",
   "metadata": {},
   "outputs": [],
   "source": [
    "# 19.125076600000014, 72.83273467301058"
   ]
  },
  {
   "cell_type": "markdown",
   "id": "6b4b9e3f",
   "metadata": {},
   "source": [
    "**Current coordinates**"
   ]
  },
  {
   "cell_type": "code",
   "execution_count": 74,
   "id": "25d2ab62",
   "metadata": {},
   "outputs": [],
   "source": [
    "import requests"
   ]
  },
  {
   "cell_type": "code",
   "execution_count": 75,
   "id": "127a24d9",
   "metadata": {},
   "outputs": [],
   "source": [
    "res=requests.get('https://ipinfo.io')"
   ]
  },
  {
   "cell_type": "code",
   "execution_count": 76,
   "id": "df9af947",
   "metadata": {},
   "outputs": [
    {
     "name": "stdout",
     "output_type": "stream",
     "text": [
      "{\n",
      "  \"ip\": \"103.183.44.248\",\n",
      "  \"city\": \"Mumbai\",\n",
      "  \"region\": \"Maharashtra\",\n",
      "  \"country\": \"IN\",\n",
      "  \"loc\": \"19.0832,72.8748\",\n",
      "  \"org\": \"AS139560 PATEL INTERNET PRIVATE LIMITED\",\n",
      "  \"postal\": \"400042\",\n",
      "  \"timezone\": \"Asia/Kolkata\",\n",
      "  \"readme\": \"https://ipinfo.io/missingauth\"\n",
      "}\n"
     ]
    }
   ],
   "source": [
    "print(res.text)"
   ]
  },
  {
   "cell_type": "code",
   "execution_count": 77,
   "id": "6c9c22eb",
   "metadata": {},
   "outputs": [],
   "source": [
    "dt=res.json()"
   ]
  },
  {
   "cell_type": "code",
   "execution_count": 78,
   "id": "7bd6afd8",
   "metadata": {},
   "outputs": [
    {
     "name": "stdout",
     "output_type": "stream",
     "text": [
      "{'ip': '103.183.44.248', 'city': 'Mumbai', 'region': 'Maharashtra', 'country': 'IN', 'loc': '19.0832,72.8748', 'org': 'AS139560 PATEL INTERNET PRIVATE LIMITED', 'postal': '400042', 'timezone': 'Asia/Kolkata', 'readme': 'https://ipinfo.io/missingauth'}\n"
     ]
    }
   ],
   "source": [
    "print(dt)"
   ]
  },
  {
   "cell_type": "code",
   "execution_count": 79,
   "id": "e3164d40",
   "metadata": {},
   "outputs": [
    {
     "name": "stdout",
     "output_type": "stream",
     "text": [
      "19.0832,72.8748\n"
     ]
    }
   ],
   "source": [
    "print(dt['loc'])"
   ]
  },
  {
   "cell_type": "code",
   "execution_count": 80,
   "id": "a60a1b7b",
   "metadata": {},
   "outputs": [],
   "source": [
    "loc=dt['loc'].split(',')"
   ]
  },
  {
   "cell_type": "code",
   "execution_count": 81,
   "id": "e2c5b935",
   "metadata": {},
   "outputs": [],
   "source": [
    "lat=loc[0]\n",
    "long=loc[1]"
   ]
  },
  {
   "cell_type": "code",
   "execution_count": 82,
   "id": "582d5e66",
   "metadata": {},
   "outputs": [
    {
     "data": {
      "text/plain": [
       "str"
      ]
     },
     "execution_count": 82,
     "metadata": {},
     "output_type": "execute_result"
    }
   ],
   "source": [
    "type(lat)"
   ]
  },
  {
   "cell_type": "code",
   "execution_count": 83,
   "id": "378e964f",
   "metadata": {},
   "outputs": [],
   "source": [
    "lat=float(lat)"
   ]
  },
  {
   "cell_type": "code",
   "execution_count": 84,
   "id": "02d69b79",
   "metadata": {},
   "outputs": [
    {
     "data": {
      "text/plain": [
       "float"
      ]
     },
     "execution_count": 84,
     "metadata": {},
     "output_type": "execute_result"
    }
   ],
   "source": [
    "type(lat)"
   ]
  },
  {
   "cell_type": "code",
   "execution_count": 85,
   "id": "e633ba1c",
   "metadata": {},
   "outputs": [],
   "source": [
    "long=float(long)"
   ]
  },
  {
   "cell_type": "code",
   "execution_count": 86,
   "id": "8bf2d1d4",
   "metadata": {},
   "outputs": [],
   "source": [
    "import pandas as pd\n",
    "import numpy as np"
   ]
  },
  {
   "cell_type": "code",
   "execution_count": 87,
   "id": "2b1201d5",
   "metadata": {},
   "outputs": [],
   "source": [
    "df=pd.read_csv('ngo.csv')"
   ]
  },
  {
   "cell_type": "code",
   "execution_count": 88,
   "id": "a136a629",
   "metadata": {},
   "outputs": [
    {
     "data": {
      "text/html": [
       "<div>\n",
       "<style scoped>\n",
       "    .dataframe tbody tr th:only-of-type {\n",
       "        vertical-align: middle;\n",
       "    }\n",
       "\n",
       "    .dataframe tbody tr th {\n",
       "        vertical-align: top;\n",
       "    }\n",
       "\n",
       "    .dataframe thead th {\n",
       "        text-align: right;\n",
       "    }\n",
       "</style>\n",
       "<table border=\"1\" class=\"dataframe\">\n",
       "  <thead>\n",
       "    <tr style=\"text-align: right;\">\n",
       "      <th></th>\n",
       "      <th>ngo</th>\n",
       "      <th>address</th>\n",
       "      <th>latitude</th>\n",
       "      <th>longitude</th>\n",
       "    </tr>\n",
       "  </thead>\n",
       "  <tbody>\n",
       "    <tr>\n",
       "      <th>0</th>\n",
       "      <td>Gurudev Poor public Food Donation Versova</td>\n",
       "      <td>Gurdwara 30-B, JP Rd, next to 7 Bunglow, oppos...</td>\n",
       "      <td>19.132493</td>\n",
       "      <td>72.813449</td>\n",
       "    </tr>\n",
       "    <tr>\n",
       "      <th>1</th>\n",
       "      <td>Smile Foundation, Mumbai</td>\n",
       "      <td>Building, 101, First Floor, Gladiola, Hanuman ...</td>\n",
       "      <td>19.106360</td>\n",
       "      <td>72.848281</td>\n",
       "    </tr>\n",
       "    <tr>\n",
       "      <th>2</th>\n",
       "      <td>Street dog food donations</td>\n",
       "      <td>Prabhat Colony, Santacruz East, Mumbai, Mahara...</td>\n",
       "      <td>19.086847</td>\n",
       "      <td>72.843095</td>\n",
       "    </tr>\n",
       "    <tr>\n",
       "      <th>3</th>\n",
       "      <td>United Way India</td>\n",
       "      <td>Sun Vision Spenta, 3rd Road, West, Khar West, ...</td>\n",
       "      <td>19.071352</td>\n",
       "      <td>72.839747</td>\n",
       "    </tr>\n",
       "    <tr>\n",
       "      <th>4</th>\n",
       "      <td>The Little Shine Foundation</td>\n",
       "      <td>Building No. 144, Gr. Floor National Library R...</td>\n",
       "      <td>19.057316</td>\n",
       "      <td>72.838460</td>\n",
       "    </tr>\n",
       "  </tbody>\n",
       "</table>\n",
       "</div>"
      ],
      "text/plain": [
       "                                         ngo  \\\n",
       "0  Gurudev Poor public Food Donation Versova   \n",
       "1                   Smile Foundation, Mumbai   \n",
       "2                  Street dog food donations   \n",
       "3                           United Way India   \n",
       "4                The Little Shine Foundation   \n",
       "\n",
       "                                             address   latitude  longitude  \n",
       "0  Gurdwara 30-B, JP Rd, next to 7 Bunglow, oppos...  19.132493  72.813449  \n",
       "1  Building, 101, First Floor, Gladiola, Hanuman ...  19.106360  72.848281  \n",
       "2  Prabhat Colony, Santacruz East, Mumbai, Mahara...  19.086847  72.843095  \n",
       "3  Sun Vision Spenta, 3rd Road, West, Khar West, ...  19.071352  72.839747  \n",
       "4  Building No. 144, Gr. Floor National Library R...  19.057316  72.838460  "
      ]
     },
     "execution_count": 88,
     "metadata": {},
     "output_type": "execute_result"
    }
   ],
   "source": [
    "df.head()"
   ]
  },
  {
   "cell_type": "code",
   "execution_count": 89,
   "id": "eef4c982",
   "metadata": {},
   "outputs": [
    {
     "name": "stdout",
     "output_type": "stream",
     "text": [
      "<class 'pandas.core.frame.DataFrame'>\n",
      "RangeIndex: 6 entries, 0 to 5\n",
      "Data columns (total 4 columns):\n",
      " #   Column     Non-Null Count  Dtype  \n",
      "---  ------     --------------  -----  \n",
      " 0   ngo        6 non-null      object \n",
      " 1   address    6 non-null      object \n",
      " 2   latitude   6 non-null      float64\n",
      " 3   longitude  6 non-null      float64\n",
      "dtypes: float64(2), object(2)\n",
      "memory usage: 320.0+ bytes\n"
     ]
    }
   ],
   "source": [
    "df.info()"
   ]
  },
  {
   "cell_type": "code",
   "execution_count": 90,
   "id": "3e2199af",
   "metadata": {},
   "outputs": [],
   "source": [
    "diff_latitude=[]\n",
    "for x in df['latitude'] :\n",
    "    diff_latitude.append(abs(x-lat))"
   ]
  },
  {
   "cell_type": "code",
   "execution_count": 91,
   "id": "22b77e57",
   "metadata": {},
   "outputs": [],
   "source": [
    "diff_longitude=[]\n",
    "for x in df['longitude'] :\n",
    "    diff_longitude.append(abs(x-long))"
   ]
  },
  {
   "cell_type": "code",
   "execution_count": 93,
   "id": "4ae4226c",
   "metadata": {},
   "outputs": [],
   "source": [
    "latitude_difference=pd.Series(diff_latitude)\n",
    "longitude_difference=pd.Series(diff_longitude)"
   ]
  },
  {
   "cell_type": "code",
   "execution_count": 102,
   "id": "910816a9",
   "metadata": {},
   "outputs": [],
   "source": [
    "df1=df.copy()"
   ]
  },
  {
   "cell_type": "code",
   "execution_count": 103,
   "id": "415500b7",
   "metadata": {},
   "outputs": [
    {
     "data": {
      "text/html": [
       "<div>\n",
       "<style scoped>\n",
       "    .dataframe tbody tr th:only-of-type {\n",
       "        vertical-align: middle;\n",
       "    }\n",
       "\n",
       "    .dataframe tbody tr th {\n",
       "        vertical-align: top;\n",
       "    }\n",
       "\n",
       "    .dataframe thead th {\n",
       "        text-align: right;\n",
       "    }\n",
       "</style>\n",
       "<table border=\"1\" class=\"dataframe\">\n",
       "  <thead>\n",
       "    <tr style=\"text-align: right;\">\n",
       "      <th></th>\n",
       "      <th>ngo</th>\n",
       "      <th>address</th>\n",
       "      <th>latitude</th>\n",
       "      <th>longitude</th>\n",
       "    </tr>\n",
       "  </thead>\n",
       "  <tbody>\n",
       "    <tr>\n",
       "      <th>0</th>\n",
       "      <td>Gurudev Poor public Food Donation Versova</td>\n",
       "      <td>Gurdwara 30-B, JP Rd, next to 7 Bunglow, oppos...</td>\n",
       "      <td>19.132493</td>\n",
       "      <td>72.813449</td>\n",
       "    </tr>\n",
       "    <tr>\n",
       "      <th>1</th>\n",
       "      <td>Smile Foundation, Mumbai</td>\n",
       "      <td>Building, 101, First Floor, Gladiola, Hanuman ...</td>\n",
       "      <td>19.106360</td>\n",
       "      <td>72.848281</td>\n",
       "    </tr>\n",
       "    <tr>\n",
       "      <th>2</th>\n",
       "      <td>Street dog food donations</td>\n",
       "      <td>Prabhat Colony, Santacruz East, Mumbai, Mahara...</td>\n",
       "      <td>19.086847</td>\n",
       "      <td>72.843095</td>\n",
       "    </tr>\n",
       "    <tr>\n",
       "      <th>3</th>\n",
       "      <td>United Way India</td>\n",
       "      <td>Sun Vision Spenta, 3rd Road, West, Khar West, ...</td>\n",
       "      <td>19.071352</td>\n",
       "      <td>72.839747</td>\n",
       "    </tr>\n",
       "    <tr>\n",
       "      <th>4</th>\n",
       "      <td>The Little Shine Foundation</td>\n",
       "      <td>Building No. 144, Gr. Floor National Library R...</td>\n",
       "      <td>19.057316</td>\n",
       "      <td>72.838460</td>\n",
       "    </tr>\n",
       "  </tbody>\n",
       "</table>\n",
       "</div>"
      ],
      "text/plain": [
       "                                         ngo  \\\n",
       "0  Gurudev Poor public Food Donation Versova   \n",
       "1                   Smile Foundation, Mumbai   \n",
       "2                  Street dog food donations   \n",
       "3                           United Way India   \n",
       "4                The Little Shine Foundation   \n",
       "\n",
       "                                             address   latitude  longitude  \n",
       "0  Gurdwara 30-B, JP Rd, next to 7 Bunglow, oppos...  19.132493  72.813449  \n",
       "1  Building, 101, First Floor, Gladiola, Hanuman ...  19.106360  72.848281  \n",
       "2  Prabhat Colony, Santacruz East, Mumbai, Mahara...  19.086847  72.843095  \n",
       "3  Sun Vision Spenta, 3rd Road, West, Khar West, ...  19.071352  72.839747  \n",
       "4  Building No. 144, Gr. Floor National Library R...  19.057316  72.838460  "
      ]
     },
     "execution_count": 103,
     "metadata": {},
     "output_type": "execute_result"
    }
   ],
   "source": [
    "df1.head()"
   ]
  },
  {
   "cell_type": "code",
   "execution_count": 104,
   "id": "612977c1",
   "metadata": {},
   "outputs": [],
   "source": [
    "df1=pd.concat([df1,latitude_difference,longitude_difference],axis=1)"
   ]
  },
  {
   "cell_type": "code",
   "execution_count": 107,
   "id": "f3849908",
   "metadata": {},
   "outputs": [],
   "source": [
    "df1.columns=['ngo','address','latitude','longitude','latitudediff','longitudediff']"
   ]
  },
  {
   "cell_type": "code",
   "execution_count": 108,
   "id": "c86155f5",
   "metadata": {},
   "outputs": [
    {
     "data": {
      "text/html": [
       "<div>\n",
       "<style scoped>\n",
       "    .dataframe tbody tr th:only-of-type {\n",
       "        vertical-align: middle;\n",
       "    }\n",
       "\n",
       "    .dataframe tbody tr th {\n",
       "        vertical-align: top;\n",
       "    }\n",
       "\n",
       "    .dataframe thead th {\n",
       "        text-align: right;\n",
       "    }\n",
       "</style>\n",
       "<table border=\"1\" class=\"dataframe\">\n",
       "  <thead>\n",
       "    <tr style=\"text-align: right;\">\n",
       "      <th></th>\n",
       "      <th>ngo</th>\n",
       "      <th>address</th>\n",
       "      <th>latitude</th>\n",
       "      <th>longitude</th>\n",
       "      <th>latitudediff</th>\n",
       "      <th>longitudediff</th>\n",
       "    </tr>\n",
       "  </thead>\n",
       "  <tbody>\n",
       "    <tr>\n",
       "      <th>0</th>\n",
       "      <td>Gurudev Poor public Food Donation Versova</td>\n",
       "      <td>Gurdwara 30-B, JP Rd, next to 7 Bunglow, oppos...</td>\n",
       "      <td>19.132493</td>\n",
       "      <td>72.813449</td>\n",
       "      <td>0.049293</td>\n",
       "      <td>0.061351</td>\n",
       "    </tr>\n",
       "    <tr>\n",
       "      <th>1</th>\n",
       "      <td>Smile Foundation, Mumbai</td>\n",
       "      <td>Building, 101, First Floor, Gladiola, Hanuman ...</td>\n",
       "      <td>19.106360</td>\n",
       "      <td>72.848281</td>\n",
       "      <td>0.023160</td>\n",
       "      <td>0.026519</td>\n",
       "    </tr>\n",
       "    <tr>\n",
       "      <th>2</th>\n",
       "      <td>Street dog food donations</td>\n",
       "      <td>Prabhat Colony, Santacruz East, Mumbai, Mahara...</td>\n",
       "      <td>19.086847</td>\n",
       "      <td>72.843095</td>\n",
       "      <td>0.003647</td>\n",
       "      <td>0.031705</td>\n",
       "    </tr>\n",
       "    <tr>\n",
       "      <th>3</th>\n",
       "      <td>United Way India</td>\n",
       "      <td>Sun Vision Spenta, 3rd Road, West, Khar West, ...</td>\n",
       "      <td>19.071352</td>\n",
       "      <td>72.839747</td>\n",
       "      <td>0.011848</td>\n",
       "      <td>0.035053</td>\n",
       "    </tr>\n",
       "    <tr>\n",
       "      <th>4</th>\n",
       "      <td>The Little Shine Foundation</td>\n",
       "      <td>Building No. 144, Gr. Floor National Library R...</td>\n",
       "      <td>19.057316</td>\n",
       "      <td>72.838460</td>\n",
       "      <td>0.025884</td>\n",
       "      <td>0.036340</td>\n",
       "    </tr>\n",
       "  </tbody>\n",
       "</table>\n",
       "</div>"
      ],
      "text/plain": [
       "                                         ngo  \\\n",
       "0  Gurudev Poor public Food Donation Versova   \n",
       "1                   Smile Foundation, Mumbai   \n",
       "2                  Street dog food donations   \n",
       "3                           United Way India   \n",
       "4                The Little Shine Foundation   \n",
       "\n",
       "                                             address   latitude  longitude  \\\n",
       "0  Gurdwara 30-B, JP Rd, next to 7 Bunglow, oppos...  19.132493  72.813449   \n",
       "1  Building, 101, First Floor, Gladiola, Hanuman ...  19.106360  72.848281   \n",
       "2  Prabhat Colony, Santacruz East, Mumbai, Mahara...  19.086847  72.843095   \n",
       "3  Sun Vision Spenta, 3rd Road, West, Khar West, ...  19.071352  72.839747   \n",
       "4  Building No. 144, Gr. Floor National Library R...  19.057316  72.838460   \n",
       "\n",
       "   latitudediff  longitudediff  \n",
       "0      0.049293       0.061351  \n",
       "1      0.023160       0.026519  \n",
       "2      0.003647       0.031705  \n",
       "3      0.011848       0.035053  \n",
       "4      0.025884       0.036340  "
      ]
     },
     "execution_count": 108,
     "metadata": {},
     "output_type": "execute_result"
    }
   ],
   "source": [
    "df1.head()"
   ]
  },
  {
   "cell_type": "code",
   "execution_count": 109,
   "id": "7b651d4c",
   "metadata": {},
   "outputs": [
    {
     "data": {
      "text/html": [
       "<div>\n",
       "<style scoped>\n",
       "    .dataframe tbody tr th:only-of-type {\n",
       "        vertical-align: middle;\n",
       "    }\n",
       "\n",
       "    .dataframe tbody tr th {\n",
       "        vertical-align: top;\n",
       "    }\n",
       "\n",
       "    .dataframe thead th {\n",
       "        text-align: right;\n",
       "    }\n",
       "</style>\n",
       "<table border=\"1\" class=\"dataframe\">\n",
       "  <thead>\n",
       "    <tr style=\"text-align: right;\">\n",
       "      <th></th>\n",
       "      <th>ngo</th>\n",
       "      <th>address</th>\n",
       "      <th>latitude</th>\n",
       "      <th>longitude</th>\n",
       "      <th>latitudediff</th>\n",
       "      <th>longitudediff</th>\n",
       "    </tr>\n",
       "  </thead>\n",
       "  <tbody>\n",
       "    <tr>\n",
       "      <th>2</th>\n",
       "      <td>Street dog food donations</td>\n",
       "      <td>Prabhat Colony, Santacruz East, Mumbai, Mahara...</td>\n",
       "      <td>19.086847</td>\n",
       "      <td>72.843095</td>\n",
       "      <td>0.003647</td>\n",
       "      <td>0.031705</td>\n",
       "    </tr>\n",
       "    <tr>\n",
       "      <th>3</th>\n",
       "      <td>United Way India</td>\n",
       "      <td>Sun Vision Spenta, 3rd Road, West, Khar West, ...</td>\n",
       "      <td>19.071352</td>\n",
       "      <td>72.839747</td>\n",
       "      <td>0.011848</td>\n",
       "      <td>0.035053</td>\n",
       "    </tr>\n",
       "    <tr>\n",
       "      <th>1</th>\n",
       "      <td>Smile Foundation, Mumbai</td>\n",
       "      <td>Building, 101, First Floor, Gladiola, Hanuman ...</td>\n",
       "      <td>19.106360</td>\n",
       "      <td>72.848281</td>\n",
       "      <td>0.023160</td>\n",
       "      <td>0.026519</td>\n",
       "    </tr>\n",
       "    <tr>\n",
       "      <th>4</th>\n",
       "      <td>The Little Shine Foundation</td>\n",
       "      <td>Building No. 144, Gr. Floor National Library R...</td>\n",
       "      <td>19.057316</td>\n",
       "      <td>72.838460</td>\n",
       "      <td>0.025884</td>\n",
       "      <td>0.036340</td>\n",
       "    </tr>\n",
       "    <tr>\n",
       "      <th>5</th>\n",
       "      <td>ISKCON food for child</td>\n",
       "      <td>BHISMA Dept, ISKCON, Hare Krishna Land, Juhu, ...</td>\n",
       "      <td>19.113381</td>\n",
       "      <td>72.826361</td>\n",
       "      <td>0.030181</td>\n",
       "      <td>0.048439</td>\n",
       "    </tr>\n",
       "    <tr>\n",
       "      <th>0</th>\n",
       "      <td>Gurudev Poor public Food Donation Versova</td>\n",
       "      <td>Gurdwara 30-B, JP Rd, next to 7 Bunglow, oppos...</td>\n",
       "      <td>19.132493</td>\n",
       "      <td>72.813449</td>\n",
       "      <td>0.049293</td>\n",
       "      <td>0.061351</td>\n",
       "    </tr>\n",
       "  </tbody>\n",
       "</table>\n",
       "</div>"
      ],
      "text/plain": [
       "                                         ngo  \\\n",
       "2                  Street dog food donations   \n",
       "3                           United Way India   \n",
       "1                   Smile Foundation, Mumbai   \n",
       "4                The Little Shine Foundation   \n",
       "5                      ISKCON food for child   \n",
       "0  Gurudev Poor public Food Donation Versova   \n",
       "\n",
       "                                             address   latitude  longitude  \\\n",
       "2  Prabhat Colony, Santacruz East, Mumbai, Mahara...  19.086847  72.843095   \n",
       "3  Sun Vision Spenta, 3rd Road, West, Khar West, ...  19.071352  72.839747   \n",
       "1  Building, 101, First Floor, Gladiola, Hanuman ...  19.106360  72.848281   \n",
       "4  Building No. 144, Gr. Floor National Library R...  19.057316  72.838460   \n",
       "5  BHISMA Dept, ISKCON, Hare Krishna Land, Juhu, ...  19.113381  72.826361   \n",
       "0  Gurdwara 30-B, JP Rd, next to 7 Bunglow, oppos...  19.132493  72.813449   \n",
       "\n",
       "   latitudediff  longitudediff  \n",
       "2      0.003647       0.031705  \n",
       "3      0.011848       0.035053  \n",
       "1      0.023160       0.026519  \n",
       "4      0.025884       0.036340  \n",
       "5      0.030181       0.048439  \n",
       "0      0.049293       0.061351  "
      ]
     },
     "execution_count": 109,
     "metadata": {},
     "output_type": "execute_result"
    }
   ],
   "source": [
    "df1=df1.sort_values(by=['latitudediff','longitudediff'],ascending=True)"
   ]
  },
  {
   "cell_type": "code",
   "execution_count": 123,
   "id": "00b3b0cb",
   "metadata": {},
   "outputs": [
    {
     "data": {
      "text/html": [
       "<div>\n",
       "<style scoped>\n",
       "    .dataframe tbody tr th:only-of-type {\n",
       "        vertical-align: middle;\n",
       "    }\n",
       "\n",
       "    .dataframe tbody tr th {\n",
       "        vertical-align: top;\n",
       "    }\n",
       "\n",
       "    .dataframe thead th {\n",
       "        text-align: right;\n",
       "    }\n",
       "</style>\n",
       "<table border=\"1\" class=\"dataframe\">\n",
       "  <thead>\n",
       "    <tr style=\"text-align: right;\">\n",
       "      <th></th>\n",
       "      <th>ngo</th>\n",
       "      <th>address</th>\n",
       "    </tr>\n",
       "  </thead>\n",
       "  <tbody>\n",
       "    <tr>\n",
       "      <th>0</th>\n",
       "      <td>Gurudev Poor public Food Donation Versova</td>\n",
       "      <td>Gurdwara 30-B, JP Rd, next to 7 Bunglow, oppos...</td>\n",
       "    </tr>\n",
       "    <tr>\n",
       "      <th>1</th>\n",
       "      <td>Smile Foundation, Mumbai</td>\n",
       "      <td>Building, 101, First Floor, Gladiola, Hanuman ...</td>\n",
       "    </tr>\n",
       "    <tr>\n",
       "      <th>2</th>\n",
       "      <td>Street dog food donations</td>\n",
       "      <td>Prabhat Colony, Santacruz East, Mumbai, Mahara...</td>\n",
       "    </tr>\n",
       "    <tr>\n",
       "      <th>3</th>\n",
       "      <td>United Way India</td>\n",
       "      <td>Sun Vision Spenta, 3rd Road, West, Khar West, ...</td>\n",
       "    </tr>\n",
       "    <tr>\n",
       "      <th>4</th>\n",
       "      <td>The Little Shine Foundation</td>\n",
       "      <td>Building No. 144, Gr. Floor National Library R...</td>\n",
       "    </tr>\n",
       "  </tbody>\n",
       "</table>\n",
       "</div>"
      ],
      "text/plain": [
       "                                         ngo  \\\n",
       "0  Gurudev Poor public Food Donation Versova   \n",
       "1                   Smile Foundation, Mumbai   \n",
       "2                  Street dog food donations   \n",
       "3                           United Way India   \n",
       "4                The Little Shine Foundation   \n",
       "\n",
       "                                             address  \n",
       "0  Gurdwara 30-B, JP Rd, next to 7 Bunglow, oppos...  \n",
       "1  Building, 101, First Floor, Gladiola, Hanuman ...  \n",
       "2  Prabhat Colony, Santacruz East, Mumbai, Mahara...  \n",
       "3  Sun Vision Spenta, 3rd Road, West, Khar West, ...  \n",
       "4  Building No. 144, Gr. Floor National Library R...  "
      ]
     },
     "execution_count": 123,
     "metadata": {},
     "output_type": "execute_result"
    }
   ],
   "source": [
    "df1[['ngo','address']].head()"
   ]
  },
  {
   "cell_type": "code",
   "execution_count": null,
   "id": "454ab567",
   "metadata": {},
   "outputs": [],
   "source": []
  }
 ],
 "metadata": {
  "kernelspec": {
   "display_name": "Python 3 (ipykernel)",
   "language": "python",
   "name": "python3"
  },
  "language_info": {
   "codemirror_mode": {
    "name": "ipython",
    "version": 3
   },
   "file_extension": ".py",
   "mimetype": "text/x-python",
   "name": "python",
   "nbconvert_exporter": "python",
   "pygments_lexer": "ipython3",
   "version": "3.9.13"
  }
 },
 "nbformat": 4,
 "nbformat_minor": 5
}
