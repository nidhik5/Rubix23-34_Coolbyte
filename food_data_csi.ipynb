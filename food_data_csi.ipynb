{
 "cells": [
  {
   "cell_type": "code",
   "execution_count": 303,
   "id": "2f0013c1",
   "metadata": {},
   "outputs": [],
   "source": [
    "import pandas as pd\n",
    "import numpy as np"
   ]
  },
  {
   "cell_type": "code",
   "execution_count": 304,
   "id": "ee928473",
   "metadata": {},
   "outputs": [],
   "source": [
    "df1=pd.read_csv('food_data.csv', encoding= 'unicode_escape')"
   ]
  },
  {
   "cell_type": "code",
   "execution_count": 305,
   "id": "e3c47e36",
   "metadata": {},
   "outputs": [
    {
     "data": {
      "text/html": [
       "<div>\n",
       "<style scoped>\n",
       "    .dataframe tbody tr th:only-of-type {\n",
       "        vertical-align: middle;\n",
       "    }\n",
       "\n",
       "    .dataframe tbody tr th {\n",
       "        vertical-align: top;\n",
       "    }\n",
       "\n",
       "    .dataframe thead th {\n",
       "        text-align: right;\n",
       "    }\n",
       "</style>\n",
       "<table border=\"1\" class=\"dataframe\">\n",
       "  <thead>\n",
       "    <tr style=\"text-align: right;\">\n",
       "      <th></th>\n",
       "      <th>product</th>\n",
       "      <th>use by</th>\n",
       "    </tr>\n",
       "  </thead>\n",
       "  <tbody>\n",
       "    <tr>\n",
       "      <th>0</th>\n",
       "      <td>Tata Sampann Unpolished Toor Dal/ Arhar Dal, 1kg</td>\n",
       "      <td>11/9/2023</td>\n",
       "    </tr>\n",
       "    <tr>\n",
       "      <th>1</th>\n",
       "      <td>Daawat Rozana Super,5kg</td>\n",
       "      <td>12/16/2024</td>\n",
       "    </tr>\n",
       "    <tr>\n",
       "      <th>2</th>\n",
       "      <td>Kissan Mixed Fruit Jam , With Real Fruit Ingre...</td>\n",
       "      <td>11/30/2023</td>\n",
       "    </tr>\n",
       "    <tr>\n",
       "      <th>3</th>\n",
       "      <td>Sundrop Peanut Butter, Crunchy, 924g</td>\n",
       "      <td>7/31/2022</td>\n",
       "    </tr>\n",
       "    <tr>\n",
       "      <th>4</th>\n",
       "      <td>Kellogg's Muesli 21% Fruit, Nut &amp; Seeds 750g |...</td>\n",
       "      <td>9/8/2023</td>\n",
       "    </tr>\n",
       "  </tbody>\n",
       "</table>\n",
       "</div>"
      ],
      "text/plain": [
       "                                             product      use by\n",
       "0   Tata Sampann Unpolished Toor Dal/ Arhar Dal, 1kg   11/9/2023\n",
       "1                            Daawat Rozana Super,5kg  12/16/2024\n",
       "2  Kissan Mixed Fruit Jam , With Real Fruit Ingre...  11/30/2023\n",
       "3               Sundrop Peanut Butter, Crunchy, 924g   7/31/2022\n",
       "4  Kellogg's Muesli 21% Fruit, Nut & Seeds 750g |...    9/8/2023"
      ]
     },
     "execution_count": 305,
     "metadata": {},
     "output_type": "execute_result"
    }
   ],
   "source": [
    "df1.head()"
   ]
  },
  {
   "cell_type": "code",
   "execution_count": 306,
   "id": "c8f0a8e2",
   "metadata": {},
   "outputs": [],
   "source": [
    "import datetime"
   ]
  },
  {
   "cell_type": "code",
   "execution_count": 307,
   "id": "e2825bf5",
   "metadata": {},
   "outputs": [],
   "source": [
    "today = datetime.date.today()"
   ]
  },
  {
   "cell_type": "code",
   "execution_count": 308,
   "id": "a80f1a4d",
   "metadata": {},
   "outputs": [
    {
     "data": {
      "text/plain": [
       "datetime.date(2023, 1, 18)"
      ]
     },
     "execution_count": 308,
     "metadata": {},
     "output_type": "execute_result"
    }
   ],
   "source": [
    "today"
   ]
  },
  {
   "cell_type": "code",
   "execution_count": 309,
   "id": "f08888ef",
   "metadata": {},
   "outputs": [],
   "source": [
    "ts=pd.Timestamp(today)"
   ]
  },
  {
   "cell_type": "code",
   "execution_count": 310,
   "id": "c998ecab",
   "metadata": {},
   "outputs": [
    {
     "data": {
      "text/plain": [
       "Timestamp('2023-01-18 00:00:00')"
      ]
     },
     "execution_count": 310,
     "metadata": {},
     "output_type": "execute_result"
    }
   ],
   "source": [
    "ts"
   ]
  },
  {
   "cell_type": "code",
   "execution_count": 311,
   "id": "0c457cb1",
   "metadata": {
    "scrolled": true
   },
   "outputs": [],
   "source": [
    "df1['use by'] = pd.to_datetime(df1['use by'], errors='coerce')"
   ]
  },
  {
   "cell_type": "code",
   "execution_count": 312,
   "id": "9cf97697",
   "metadata": {},
   "outputs": [
    {
     "name": "stdout",
     "output_type": "stream",
     "text": [
      "<class 'pandas.core.frame.DataFrame'>\n",
      "RangeIndex: 39 entries, 0 to 38\n",
      "Data columns (total 2 columns):\n",
      " #   Column   Non-Null Count  Dtype         \n",
      "---  ------   --------------  -----         \n",
      " 0   product  39 non-null     object        \n",
      " 1   use by   39 non-null     datetime64[ns]\n",
      "dtypes: datetime64[ns](1), object(1)\n",
      "memory usage: 752.0+ bytes\n"
     ]
    }
   ],
   "source": [
    "df1.info()"
   ]
  },
  {
   "cell_type": "code",
   "execution_count": 313,
   "id": "b3b039c0",
   "metadata": {},
   "outputs": [],
   "source": [
    "ind=df1['use by'].index"
   ]
  },
  {
   "cell_type": "code",
   "execution_count": 314,
   "id": "6cc5b798",
   "metadata": {},
   "outputs": [
    {
     "data": {
      "text/plain": [
       "RangeIndex(start=0, stop=39, step=1)"
      ]
     },
     "execution_count": 314,
     "metadata": {},
     "output_type": "execute_result"
    }
   ],
   "source": [
    "ind"
   ]
  },
  {
   "cell_type": "code",
   "execution_count": 315,
   "id": "58cd4f86",
   "metadata": {},
   "outputs": [],
   "source": [
    "#df1['use by'] = df1['use by'].dt.strftime('%d/%m/%Y')"
   ]
  },
  {
   "cell_type": "code",
   "execution_count": 316,
   "id": "61e08ad0",
   "metadata": {},
   "outputs": [
    {
     "name": "stdout",
     "output_type": "stream",
     "text": [
      "<class 'pandas.core.frame.DataFrame'>\n",
      "RangeIndex: 39 entries, 0 to 38\n",
      "Data columns (total 2 columns):\n",
      " #   Column   Non-Null Count  Dtype         \n",
      "---  ------   --------------  -----         \n",
      " 0   product  39 non-null     object        \n",
      " 1   use by   39 non-null     datetime64[ns]\n",
      "dtypes: datetime64[ns](1), object(1)\n",
      "memory usage: 752.0+ bytes\n"
     ]
    }
   ],
   "source": [
    "df1.info()"
   ]
  },
  {
   "cell_type": "code",
   "execution_count": 317,
   "id": "17b72210",
   "metadata": {},
   "outputs": [
    {
     "data": {
      "text/html": [
       "<div>\n",
       "<style scoped>\n",
       "    .dataframe tbody tr th:only-of-type {\n",
       "        vertical-align: middle;\n",
       "    }\n",
       "\n",
       "    .dataframe tbody tr th {\n",
       "        vertical-align: top;\n",
       "    }\n",
       "\n",
       "    .dataframe thead th {\n",
       "        text-align: right;\n",
       "    }\n",
       "</style>\n",
       "<table border=\"1\" class=\"dataframe\">\n",
       "  <thead>\n",
       "    <tr style=\"text-align: right;\">\n",
       "      <th></th>\n",
       "      <th>product</th>\n",
       "      <th>use by</th>\n",
       "    </tr>\n",
       "  </thead>\n",
       "  <tbody>\n",
       "    <tr>\n",
       "      <th>0</th>\n",
       "      <td>Tata Sampann Unpolished Toor Dal/ Arhar Dal, 1kg</td>\n",
       "      <td>2023-11-09</td>\n",
       "    </tr>\n",
       "    <tr>\n",
       "      <th>1</th>\n",
       "      <td>Daawat Rozana Super,5kg</td>\n",
       "      <td>2024-12-16</td>\n",
       "    </tr>\n",
       "    <tr>\n",
       "      <th>2</th>\n",
       "      <td>Kissan Mixed Fruit Jam , With Real Fruit Ingre...</td>\n",
       "      <td>2023-11-30</td>\n",
       "    </tr>\n",
       "    <tr>\n",
       "      <th>3</th>\n",
       "      <td>Sundrop Peanut Butter, Crunchy, 924g</td>\n",
       "      <td>2022-07-31</td>\n",
       "    </tr>\n",
       "    <tr>\n",
       "      <th>4</th>\n",
       "      <td>Kellogg's Muesli 21% Fruit, Nut &amp; Seeds 750g |...</td>\n",
       "      <td>2023-09-08</td>\n",
       "    </tr>\n",
       "  </tbody>\n",
       "</table>\n",
       "</div>"
      ],
      "text/plain": [
       "                                             product     use by\n",
       "0   Tata Sampann Unpolished Toor Dal/ Arhar Dal, 1kg 2023-11-09\n",
       "1                            Daawat Rozana Super,5kg 2024-12-16\n",
       "2  Kissan Mixed Fruit Jam , With Real Fruit Ingre... 2023-11-30\n",
       "3               Sundrop Peanut Butter, Crunchy, 924g 2022-07-31\n",
       "4  Kellogg's Muesli 21% Fruit, Nut & Seeds 750g |... 2023-09-08"
      ]
     },
     "execution_count": 317,
     "metadata": {},
     "output_type": "execute_result"
    }
   ],
   "source": [
    "df1.head()"
   ]
  },
  {
   "cell_type": "code",
   "execution_count": 318,
   "id": "9239da17",
   "metadata": {},
   "outputs": [],
   "source": [
    "l=[]\n",
    "for x in df1['use by']:\n",
    "    l.append((x-ts))"
   ]
  },
  {
   "cell_type": "code",
   "execution_count": 319,
   "id": "ee33f5c4",
   "metadata": {},
   "outputs": [
    {
     "data": {
      "text/plain": [
       "[Timedelta('295 days 00:00:00'),\n",
       " Timedelta('698 days 00:00:00'),\n",
       " Timedelta('316 days 00:00:00'),\n",
       " Timedelta('-171 days +00:00:00'),\n",
       " Timedelta('233 days 00:00:00'),\n",
       " Timedelta('246 days 00:00:00'),\n",
       " Timedelta('190 days 00:00:00'),\n",
       " Timedelta('127 days 00:00:00'),\n",
       " Timedelta('236 days 00:00:00'),\n",
       " Timedelta('162 days 00:00:00'),\n",
       " Timedelta('221 days 00:00:00'),\n",
       " Timedelta('27 days 00:00:00'),\n",
       " Timedelta('136 days 00:00:00'),\n",
       " Timedelta('227 days 00:00:00'),\n",
       " Timedelta('182 days 00:00:00'),\n",
       " Timedelta('224 days 00:00:00'),\n",
       " Timedelta('226 days 00:00:00'),\n",
       " Timedelta('109 days 00:00:00'),\n",
       " Timedelta('138 days 00:00:00'),\n",
       " Timedelta('167 days 00:00:00'),\n",
       " Timedelta('57 days 00:00:00'),\n",
       " Timedelta('131 days 00:00:00'),\n",
       " Timedelta('143 days 00:00:00'),\n",
       " Timedelta('113 days 00:00:00'),\n",
       " Timedelta('148 days 00:00:00'),\n",
       " Timedelta('79 days 00:00:00'),\n",
       " Timedelta('281 days 00:00:00'),\n",
       " Timedelta('246 days 00:00:00'),\n",
       " Timedelta('42 days 00:00:00'),\n",
       " Timedelta('83 days 00:00:00'),\n",
       " Timedelta('38 days 00:00:00'),\n",
       " Timedelta('52 days 00:00:00'),\n",
       " Timedelta('105 days 00:00:00'),\n",
       " Timedelta('131 days 00:00:00'),\n",
       " Timedelta('113 days 00:00:00'),\n",
       " Timedelta('131 days 00:00:00'),\n",
       " Timedelta('146 days 00:00:00'),\n",
       " Timedelta('162 days 00:00:00'),\n",
       " Timedelta('54 days 00:00:00')]"
      ]
     },
     "execution_count": 319,
     "metadata": {},
     "output_type": "execute_result"
    }
   ],
   "source": [
    "l"
   ]
  },
  {
   "cell_type": "code",
   "execution_count": 320,
   "id": "1b2af516",
   "metadata": {},
   "outputs": [],
   "source": [
    "z=pd.Series(l)"
   ]
  },
  {
   "cell_type": "code",
   "execution_count": 321,
   "id": "ce11c2de",
   "metadata": {},
   "outputs": [
    {
     "data": {
      "text/plain": [
       "0     295 days\n",
       "1     698 days\n",
       "2     316 days\n",
       "3    -171 days\n",
       "4     233 days\n",
       "5     246 days\n",
       "6     190 days\n",
       "7     127 days\n",
       "8     236 days\n",
       "9     162 days\n",
       "10    221 days\n",
       "11     27 days\n",
       "12    136 days\n",
       "13    227 days\n",
       "14    182 days\n",
       "15    224 days\n",
       "16    226 days\n",
       "17    109 days\n",
       "18    138 days\n",
       "19    167 days\n",
       "20     57 days\n",
       "21    131 days\n",
       "22    143 days\n",
       "23    113 days\n",
       "24    148 days\n",
       "25     79 days\n",
       "26    281 days\n",
       "27    246 days\n",
       "28     42 days\n",
       "29     83 days\n",
       "30     38 days\n",
       "31     52 days\n",
       "32    105 days\n",
       "33    131 days\n",
       "34    113 days\n",
       "35    131 days\n",
       "36    146 days\n",
       "37    162 days\n",
       "38     54 days\n",
       "dtype: timedelta64[ns]"
      ]
     },
     "execution_count": 321,
     "metadata": {},
     "output_type": "execute_result"
    }
   ],
   "source": [
    "z"
   ]
  },
  {
   "cell_type": "code",
   "execution_count": 322,
   "id": "5c20fc32",
   "metadata": {},
   "outputs": [],
   "source": [
    "df1['diff']=z"
   ]
  },
  {
   "cell_type": "code",
   "execution_count": 323,
   "id": "6f18a650",
   "metadata": {},
   "outputs": [
    {
     "data": {
      "text/html": [
       "<div>\n",
       "<style scoped>\n",
       "    .dataframe tbody tr th:only-of-type {\n",
       "        vertical-align: middle;\n",
       "    }\n",
       "\n",
       "    .dataframe tbody tr th {\n",
       "        vertical-align: top;\n",
       "    }\n",
       "\n",
       "    .dataframe thead th {\n",
       "        text-align: right;\n",
       "    }\n",
       "</style>\n",
       "<table border=\"1\" class=\"dataframe\">\n",
       "  <thead>\n",
       "    <tr style=\"text-align: right;\">\n",
       "      <th></th>\n",
       "      <th>product</th>\n",
       "      <th>use by</th>\n",
       "      <th>diff</th>\n",
       "    </tr>\n",
       "  </thead>\n",
       "  <tbody>\n",
       "    <tr>\n",
       "      <th>0</th>\n",
       "      <td>Tata Sampann Unpolished Toor Dal/ Arhar Dal, 1kg</td>\n",
       "      <td>2023-11-09</td>\n",
       "      <td>295 days</td>\n",
       "    </tr>\n",
       "    <tr>\n",
       "      <th>1</th>\n",
       "      <td>Daawat Rozana Super,5kg</td>\n",
       "      <td>2024-12-16</td>\n",
       "      <td>698 days</td>\n",
       "    </tr>\n",
       "    <tr>\n",
       "      <th>2</th>\n",
       "      <td>Kissan Mixed Fruit Jam , With Real Fruit Ingre...</td>\n",
       "      <td>2023-11-30</td>\n",
       "      <td>316 days</td>\n",
       "    </tr>\n",
       "    <tr>\n",
       "      <th>3</th>\n",
       "      <td>Sundrop Peanut Butter, Crunchy, 924g</td>\n",
       "      <td>2022-07-31</td>\n",
       "      <td>-171 days</td>\n",
       "    </tr>\n",
       "    <tr>\n",
       "      <th>4</th>\n",
       "      <td>Kellogg's Muesli 21% Fruit, Nut &amp; Seeds 750g |...</td>\n",
       "      <td>2023-09-08</td>\n",
       "      <td>233 days</td>\n",
       "    </tr>\n",
       "  </tbody>\n",
       "</table>\n",
       "</div>"
      ],
      "text/plain": [
       "                                             product     use by      diff\n",
       "0   Tata Sampann Unpolished Toor Dal/ Arhar Dal, 1kg 2023-11-09  295 days\n",
       "1                            Daawat Rozana Super,5kg 2024-12-16  698 days\n",
       "2  Kissan Mixed Fruit Jam , With Real Fruit Ingre... 2023-11-30  316 days\n",
       "3               Sundrop Peanut Butter, Crunchy, 924g 2022-07-31 -171 days\n",
       "4  Kellogg's Muesli 21% Fruit, Nut & Seeds 750g |... 2023-09-08  233 days"
      ]
     },
     "execution_count": 323,
     "metadata": {},
     "output_type": "execute_result"
    }
   ],
   "source": [
    "df1.head()"
   ]
  },
  {
   "cell_type": "code",
   "execution_count": 324,
   "id": "d5f01969",
   "metadata": {},
   "outputs": [],
   "source": [
    "df1=df1.sort_values(by='diff',ascending=True)"
   ]
  },
  {
   "cell_type": "code",
   "execution_count": 325,
   "id": "0441f67b",
   "metadata": {},
   "outputs": [
    {
     "data": {
      "text/html": [
       "<div>\n",
       "<style scoped>\n",
       "    .dataframe tbody tr th:only-of-type {\n",
       "        vertical-align: middle;\n",
       "    }\n",
       "\n",
       "    .dataframe tbody tr th {\n",
       "        vertical-align: top;\n",
       "    }\n",
       "\n",
       "    .dataframe thead th {\n",
       "        text-align: right;\n",
       "    }\n",
       "</style>\n",
       "<table border=\"1\" class=\"dataframe\">\n",
       "  <thead>\n",
       "    <tr style=\"text-align: right;\">\n",
       "      <th></th>\n",
       "      <th>product</th>\n",
       "      <th>use by</th>\n",
       "      <th>diff</th>\n",
       "    </tr>\n",
       "  </thead>\n",
       "  <tbody>\n",
       "    <tr>\n",
       "      <th>3</th>\n",
       "      <td>Sundrop Peanut Butter, Crunchy, 924g</td>\n",
       "      <td>2022-07-31</td>\n",
       "      <td>-171 days</td>\n",
       "    </tr>\n",
       "    <tr>\n",
       "      <th>11</th>\n",
       "      <td>Yakult Probiotic Health Drink Bottle, 5 X 65 ml</td>\n",
       "      <td>2023-02-14</td>\n",
       "      <td>27 days</td>\n",
       "    </tr>\n",
       "    <tr>\n",
       "      <th>30</th>\n",
       "      <td>Kwality Wall's Fruit &amp; Nut, 700 ml</td>\n",
       "      <td>2023-02-25</td>\n",
       "      <td>38 days</td>\n",
       "    </tr>\n",
       "    <tr>\n",
       "      <th>28</th>\n",
       "      <td>Kwality Wall's Crème Delights Mango Tub, 700 ml</td>\n",
       "      <td>2023-03-01</td>\n",
       "      <td>42 days</td>\n",
       "    </tr>\n",
       "    <tr>\n",
       "      <th>31</th>\n",
       "      <td>Kwality Wall's Cadbury Crackle Tub, 700ml</td>\n",
       "      <td>2023-03-11</td>\n",
       "      <td>52 days</td>\n",
       "    </tr>\n",
       "  </tbody>\n",
       "</table>\n",
       "</div>"
      ],
      "text/plain": [
       "                                            product     use by      diff\n",
       "3              Sundrop Peanut Butter, Crunchy, 924g 2022-07-31 -171 days\n",
       "11  Yakult Probiotic Health Drink Bottle, 5 X 65 ml 2023-02-14   27 days\n",
       "30               Kwality Wall's Fruit & Nut, 700 ml 2023-02-25   38 days\n",
       "28  Kwality Wall's Crème Delights Mango Tub, 700 ml 2023-03-01   42 days\n",
       "31        Kwality Wall's Cadbury Crackle Tub, 700ml 2023-03-11   52 days"
      ]
     },
     "execution_count": 325,
     "metadata": {},
     "output_type": "execute_result"
    }
   ],
   "source": [
    "df1.head()"
   ]
  },
  {
   "cell_type": "code",
   "execution_count": null,
   "id": "44e88cad",
   "metadata": {},
   "outputs": [],
   "source": []
  }
 ],
 "metadata": {
  "kernelspec": {
   "display_name": "Python 3 (ipykernel)",
   "language": "python",
   "name": "python3"
  },
  "language_info": {
   "codemirror_mode": {
    "name": "ipython",
    "version": 3
   },
   "file_extension": ".py",
   "mimetype": "text/x-python",
   "name": "python",
   "nbconvert_exporter": "python",
   "pygments_lexer": "ipython3",
   "version": "3.9.13"
  }
 },
 "nbformat": 4,
 "nbformat_minor": 5
}
